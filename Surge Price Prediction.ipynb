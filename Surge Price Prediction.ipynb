{
 "cells": [
  {
   "cell_type": "code",
   "execution_count": 1,
   "id": "4fe593ab",
   "metadata": {},
   "outputs": [
    {
     "name": "stdout",
     "output_type": "stream",
     "text": [
      "Requirement already satisfied: lightgbm in d:\\jupyter  notebook\\localenv\\lib\\site-packages (3.2.1)\n",
      "Requirement already satisfied: scipy in d:\\jupyter  notebook\\localenv\\lib\\site-packages (from lightgbm) (1.7.0)\n",
      "Requirement already satisfied: wheel in d:\\jupyter  notebook\\localenv\\lib\\site-packages (from lightgbm) (0.37.0)\n",
      "Requirement already satisfied: numpy in d:\\jupyter  notebook\\localenv\\lib\\site-packages (from lightgbm) (1.19.5)\n",
      "Requirement already satisfied: scikit-learn!=0.22.0 in d:\\jupyter  notebook\\localenv\\lib\\site-packages (from lightgbm) (0.24.2)\n",
      "Requirement already satisfied: joblib>=0.11 in d:\\jupyter  notebook\\localenv\\lib\\site-packages (from scikit-learn!=0.22.0->lightgbm) (1.0.1)\n",
      "Requirement already satisfied: threadpoolctl>=2.0.0 in d:\\jupyter  notebook\\localenv\\lib\\site-packages (from scikit-learn!=0.22.0->lightgbm) (2.2.0)\n"
     ]
    },
    {
     "name": "stderr",
     "output_type": "stream",
     "text": [
      "WARNING: You are using pip version 20.1.1; however, version 21.2.4 is available.\n",
      "You should consider upgrading via the 'd:\\jupyter  notebook\\localenv\\scripts\\python.exe -m pip install --upgrade pip' command.\n"
     ]
    },
    {
     "name": "stdout",
     "output_type": "stream",
     "text": [
      "Requirement already satisfied: xgboost in d:\\jupyter  notebook\\localenv\\lib\\site-packages (1.4.2)"
     ]
    },
    {
     "name": "stderr",
     "output_type": "stream",
     "text": [
      "WARNING: You are using pip version 20.1.1; however, version 21.2.4 is available.\n",
      "You should consider upgrading via the 'd:\\jupyter  notebook\\localenv\\scripts\\python.exe -m pip install --upgrade pip' command.\n"
     ]
    },
    {
     "name": "stdout",
     "output_type": "stream",
     "text": [
      "\n",
      "Requirement already satisfied: scipy in d:\\jupyter  notebook\\localenv\\lib\\site-packages (from xgboost) (1.7.0)\n",
      "Requirement already satisfied: numpy in d:\\jupyter  notebook\\localenv\\lib\\site-packages (from xgboost) (1.19.5)\n"
     ]
    }
   ],
   "source": [
    "!pip install lightgbm\n",
    "!pip install xgboost"
   ]
  },
  {
   "cell_type": "code",
   "execution_count": 2,
   "id": "f0ea3dfd",
   "metadata": {},
   "outputs": [],
   "source": [
    "import pandas as pd\n",
    "import numpy as np\n",
    "\n",
    "from sklearn.model_selection import train_test_split\n",
    "from sklearn.tree import DecisionTreeClassifier\n",
    "from sklearn.linear_model import LogisticRegression\n",
    "from sklearn.neighbors import KNeighborsClassifier\n",
    "from sklearn.linear_model import LogisticRegression\n",
    "from sklearn.naive_bayes import GaussianNB\n",
    "from sklearn.ensemble import RandomForestClassifier\n",
    "from sklearn.svm import SVC\n",
    "from sklearn.ensemble import GradientBoostingClassifier\n",
    "import lightgbm as lgb\n",
    "\n",
    "from sklearn.metrics import classification_report\n",
    "from sklearn.metrics import accuracy_score\n",
    "from sklearn.metrics import confusion_matrix"
   ]
  },
  {
   "cell_type": "code",
   "execution_count": 3,
   "id": "d06a3aa6",
   "metadata": {},
   "outputs": [
    {
     "data": {
      "text/html": [
       "<div>\n",
       "<style scoped>\n",
       "    .dataframe tbody tr th:only-of-type {\n",
       "        vertical-align: middle;\n",
       "    }\n",
       "\n",
       "    .dataframe tbody tr th {\n",
       "        vertical-align: top;\n",
       "    }\n",
       "\n",
       "    .dataframe thead th {\n",
       "        text-align: right;\n",
       "    }\n",
       "</style>\n",
       "<table border=\"1\" class=\"dataframe\">\n",
       "  <thead>\n",
       "    <tr style=\"text-align: right;\">\n",
       "      <th></th>\n",
       "      <th>Trip_ID</th>\n",
       "      <th>Trip_Distance</th>\n",
       "      <th>Type_of_Cab</th>\n",
       "      <th>Customer_Since_Months</th>\n",
       "      <th>Life_Style_Index</th>\n",
       "      <th>Confidence_Life_Style_Index</th>\n",
       "      <th>Destination_Type</th>\n",
       "      <th>Customer_Rating</th>\n",
       "      <th>Cancellation_Last_1Month</th>\n",
       "      <th>Var1</th>\n",
       "      <th>Var2</th>\n",
       "      <th>Var3</th>\n",
       "      <th>Gender</th>\n",
       "      <th>Surge_Pricing_Type</th>\n",
       "    </tr>\n",
       "  </thead>\n",
       "  <tbody>\n",
       "    <tr>\n",
       "      <th>0</th>\n",
       "      <td>T0005689460</td>\n",
       "      <td>6.77</td>\n",
       "      <td>B</td>\n",
       "      <td>1.0</td>\n",
       "      <td>2.42769</td>\n",
       "      <td>A</td>\n",
       "      <td>A</td>\n",
       "      <td>3.90500</td>\n",
       "      <td>0</td>\n",
       "      <td>40.0</td>\n",
       "      <td>46</td>\n",
       "      <td>60</td>\n",
       "      <td>Female</td>\n",
       "      <td>2</td>\n",
       "    </tr>\n",
       "    <tr>\n",
       "      <th>1</th>\n",
       "      <td>T0005689461</td>\n",
       "      <td>29.47</td>\n",
       "      <td>B</td>\n",
       "      <td>10.0</td>\n",
       "      <td>2.78245</td>\n",
       "      <td>B</td>\n",
       "      <td>A</td>\n",
       "      <td>3.45000</td>\n",
       "      <td>0</td>\n",
       "      <td>38.0</td>\n",
       "      <td>56</td>\n",
       "      <td>78</td>\n",
       "      <td>Male</td>\n",
       "      <td>2</td>\n",
       "    </tr>\n",
       "    <tr>\n",
       "      <th>2</th>\n",
       "      <td>T0005689464</td>\n",
       "      <td>41.58</td>\n",
       "      <td>NaN</td>\n",
       "      <td>10.0</td>\n",
       "      <td>NaN</td>\n",
       "      <td>NaN</td>\n",
       "      <td>E</td>\n",
       "      <td>3.50125</td>\n",
       "      <td>2</td>\n",
       "      <td>NaN</td>\n",
       "      <td>56</td>\n",
       "      <td>77</td>\n",
       "      <td>Male</td>\n",
       "      <td>2</td>\n",
       "    </tr>\n",
       "    <tr>\n",
       "      <th>3</th>\n",
       "      <td>T0005689465</td>\n",
       "      <td>61.56</td>\n",
       "      <td>C</td>\n",
       "      <td>10.0</td>\n",
       "      <td>NaN</td>\n",
       "      <td>NaN</td>\n",
       "      <td>A</td>\n",
       "      <td>3.45375</td>\n",
       "      <td>0</td>\n",
       "      <td>NaN</td>\n",
       "      <td>52</td>\n",
       "      <td>74</td>\n",
       "      <td>Male</td>\n",
       "      <td>3</td>\n",
       "    </tr>\n",
       "    <tr>\n",
       "      <th>4</th>\n",
       "      <td>T0005689467</td>\n",
       "      <td>54.95</td>\n",
       "      <td>C</td>\n",
       "      <td>10.0</td>\n",
       "      <td>3.03453</td>\n",
       "      <td>B</td>\n",
       "      <td>A</td>\n",
       "      <td>3.40250</td>\n",
       "      <td>4</td>\n",
       "      <td>51.0</td>\n",
       "      <td>49</td>\n",
       "      <td>102</td>\n",
       "      <td>Male</td>\n",
       "      <td>2</td>\n",
       "    </tr>\n",
       "  </tbody>\n",
       "</table>\n",
       "</div>"
      ],
      "text/plain": [
       "       Trip_ID  Trip_Distance Type_of_Cab  Customer_Since_Months  \\\n",
       "0  T0005689460           6.77           B                    1.0   \n",
       "1  T0005689461          29.47           B                   10.0   \n",
       "2  T0005689464          41.58         NaN                   10.0   \n",
       "3  T0005689465          61.56           C                   10.0   \n",
       "4  T0005689467          54.95           C                   10.0   \n",
       "\n",
       "   Life_Style_Index Confidence_Life_Style_Index Destination_Type  \\\n",
       "0           2.42769                           A                A   \n",
       "1           2.78245                           B                A   \n",
       "2               NaN                         NaN                E   \n",
       "3               NaN                         NaN                A   \n",
       "4           3.03453                           B                A   \n",
       "\n",
       "   Customer_Rating  Cancellation_Last_1Month  Var1  Var2  Var3  Gender  \\\n",
       "0          3.90500                         0  40.0    46    60  Female   \n",
       "1          3.45000                         0  38.0    56    78    Male   \n",
       "2          3.50125                         2   NaN    56    77    Male   \n",
       "3          3.45375                         0   NaN    52    74    Male   \n",
       "4          3.40250                         4  51.0    49   102    Male   \n",
       "\n",
       "   Surge_Pricing_Type  \n",
       "0                   2  \n",
       "1                   2  \n",
       "2                   2  \n",
       "3                   3  \n",
       "4                   2  "
      ]
     },
     "execution_count": 3,
     "metadata": {},
     "output_type": "execute_result"
    }
   ],
   "source": [
    "train = pd.read_csv('sigma_cabs.csv')\n",
    "train.head()"
   ]
  },
  {
   "cell_type": "code",
   "execution_count": 4,
   "id": "b0a32942",
   "metadata": {},
   "outputs": [
    {
     "data": {
      "text/html": [
       "<div>\n",
       "<style scoped>\n",
       "    .dataframe tbody tr th:only-of-type {\n",
       "        vertical-align: middle;\n",
       "    }\n",
       "\n",
       "    .dataframe tbody tr th {\n",
       "        vertical-align: top;\n",
       "    }\n",
       "\n",
       "    .dataframe thead th {\n",
       "        text-align: right;\n",
       "    }\n",
       "</style>\n",
       "<table border=\"1\" class=\"dataframe\">\n",
       "  <thead>\n",
       "    <tr style=\"text-align: right;\">\n",
       "      <th></th>\n",
       "      <th>Trip_Distance</th>\n",
       "      <th>Customer_Since_Months</th>\n",
       "      <th>Life_Style_Index</th>\n",
       "      <th>Customer_Rating</th>\n",
       "      <th>Cancellation_Last_1Month</th>\n",
       "      <th>Var1</th>\n",
       "      <th>Var2</th>\n",
       "      <th>Var3</th>\n",
       "      <th>Surge_Pricing_Type</th>\n",
       "    </tr>\n",
       "  </thead>\n",
       "  <tbody>\n",
       "    <tr>\n",
       "      <th>count</th>\n",
       "      <td>131662.000000</td>\n",
       "      <td>125742.000000</td>\n",
       "      <td>111469.000000</td>\n",
       "      <td>131662.000000</td>\n",
       "      <td>131662.000000</td>\n",
       "      <td>60632.000000</td>\n",
       "      <td>131662.000000</td>\n",
       "      <td>131662.000000</td>\n",
       "      <td>131662.000000</td>\n",
       "    </tr>\n",
       "    <tr>\n",
       "      <th>mean</th>\n",
       "      <td>44.200909</td>\n",
       "      <td>6.016661</td>\n",
       "      <td>2.802064</td>\n",
       "      <td>2.849458</td>\n",
       "      <td>0.782838</td>\n",
       "      <td>64.202698</td>\n",
       "      <td>51.202800</td>\n",
       "      <td>75.099019</td>\n",
       "      <td>2.155747</td>\n",
       "    </tr>\n",
       "    <tr>\n",
       "      <th>std</th>\n",
       "      <td>25.522882</td>\n",
       "      <td>3.626887</td>\n",
       "      <td>0.225796</td>\n",
       "      <td>0.980675</td>\n",
       "      <td>1.037559</td>\n",
       "      <td>21.820447</td>\n",
       "      <td>4.986142</td>\n",
       "      <td>11.578278</td>\n",
       "      <td>0.738164</td>\n",
       "    </tr>\n",
       "    <tr>\n",
       "      <th>min</th>\n",
       "      <td>0.310000</td>\n",
       "      <td>0.000000</td>\n",
       "      <td>1.596380</td>\n",
       "      <td>0.001250</td>\n",
       "      <td>0.000000</td>\n",
       "      <td>30.000000</td>\n",
       "      <td>40.000000</td>\n",
       "      <td>52.000000</td>\n",
       "      <td>1.000000</td>\n",
       "    </tr>\n",
       "    <tr>\n",
       "      <th>25%</th>\n",
       "      <td>24.580000</td>\n",
       "      <td>3.000000</td>\n",
       "      <td>2.654730</td>\n",
       "      <td>2.152500</td>\n",
       "      <td>0.000000</td>\n",
       "      <td>46.000000</td>\n",
       "      <td>48.000000</td>\n",
       "      <td>67.000000</td>\n",
       "      <td>2.000000</td>\n",
       "    </tr>\n",
       "    <tr>\n",
       "      <th>50%</th>\n",
       "      <td>38.200000</td>\n",
       "      <td>6.000000</td>\n",
       "      <td>2.798050</td>\n",
       "      <td>2.895000</td>\n",
       "      <td>0.000000</td>\n",
       "      <td>61.000000</td>\n",
       "      <td>50.000000</td>\n",
       "      <td>74.000000</td>\n",
       "      <td>2.000000</td>\n",
       "    </tr>\n",
       "    <tr>\n",
       "      <th>75%</th>\n",
       "      <td>60.730000</td>\n",
       "      <td>10.000000</td>\n",
       "      <td>2.946780</td>\n",
       "      <td>3.582500</td>\n",
       "      <td>1.000000</td>\n",
       "      <td>80.000000</td>\n",
       "      <td>54.000000</td>\n",
       "      <td>82.000000</td>\n",
       "      <td>3.000000</td>\n",
       "    </tr>\n",
       "    <tr>\n",
       "      <th>max</th>\n",
       "      <td>109.230000</td>\n",
       "      <td>10.000000</td>\n",
       "      <td>4.875110</td>\n",
       "      <td>5.000000</td>\n",
       "      <td>8.000000</td>\n",
       "      <td>210.000000</td>\n",
       "      <td>124.000000</td>\n",
       "      <td>206.000000</td>\n",
       "      <td>3.000000</td>\n",
       "    </tr>\n",
       "  </tbody>\n",
       "</table>\n",
       "</div>"
      ],
      "text/plain": [
       "       Trip_Distance  Customer_Since_Months  Life_Style_Index  \\\n",
       "count  131662.000000          125742.000000     111469.000000   \n",
       "mean       44.200909               6.016661          2.802064   \n",
       "std        25.522882               3.626887          0.225796   \n",
       "min         0.310000               0.000000          1.596380   \n",
       "25%        24.580000               3.000000          2.654730   \n",
       "50%        38.200000               6.000000          2.798050   \n",
       "75%        60.730000              10.000000          2.946780   \n",
       "max       109.230000              10.000000          4.875110   \n",
       "\n",
       "       Customer_Rating  Cancellation_Last_1Month          Var1           Var2  \\\n",
       "count    131662.000000             131662.000000  60632.000000  131662.000000   \n",
       "mean          2.849458                  0.782838     64.202698      51.202800   \n",
       "std           0.980675                  1.037559     21.820447       4.986142   \n",
       "min           0.001250                  0.000000     30.000000      40.000000   \n",
       "25%           2.152500                  0.000000     46.000000      48.000000   \n",
       "50%           2.895000                  0.000000     61.000000      50.000000   \n",
       "75%           3.582500                  1.000000     80.000000      54.000000   \n",
       "max           5.000000                  8.000000    210.000000     124.000000   \n",
       "\n",
       "                Var3  Surge_Pricing_Type  \n",
       "count  131662.000000       131662.000000  \n",
       "mean       75.099019            2.155747  \n",
       "std        11.578278            0.738164  \n",
       "min        52.000000            1.000000  \n",
       "25%        67.000000            2.000000  \n",
       "50%        74.000000            2.000000  \n",
       "75%        82.000000            3.000000  \n",
       "max       206.000000            3.000000  "
      ]
     },
     "execution_count": 4,
     "metadata": {},
     "output_type": "execute_result"
    }
   ],
   "source": [
    "train.describe()"
   ]
  },
  {
   "cell_type": "code",
   "execution_count": 5,
   "id": "b72ddb9a",
   "metadata": {},
   "outputs": [
    {
     "data": {
      "text/plain": [
       "(131662, 14)"
      ]
     },
     "execution_count": 5,
     "metadata": {},
     "output_type": "execute_result"
    }
   ],
   "source": [
    "train.shape"
   ]
  },
  {
   "cell_type": "code",
   "execution_count": 6,
   "id": "425246f5",
   "metadata": {},
   "outputs": [
    {
     "name": "stdout",
     "output_type": "stream",
     "text": [
      "<class 'pandas.core.frame.DataFrame'>\n",
      "RangeIndex: 131662 entries, 0 to 131661\n",
      "Data columns (total 14 columns):\n",
      " #   Column                       Non-Null Count   Dtype  \n",
      "---  ------                       --------------   -----  \n",
      " 0   Trip_ID                      131662 non-null  object \n",
      " 1   Trip_Distance                131662 non-null  float64\n",
      " 2   Type_of_Cab                  111452 non-null  object \n",
      " 3   Customer_Since_Months        125742 non-null  float64\n",
      " 4   Life_Style_Index             111469 non-null  float64\n",
      " 5   Confidence_Life_Style_Index  111469 non-null  object \n",
      " 6   Destination_Type             131662 non-null  object \n",
      " 7   Customer_Rating              131662 non-null  float64\n",
      " 8   Cancellation_Last_1Month     131662 non-null  int64  \n",
      " 9   Var1                         60632 non-null   float64\n",
      " 10  Var2                         131662 non-null  int64  \n",
      " 11  Var3                         131662 non-null  int64  \n",
      " 12  Gender                       131662 non-null  object \n",
      " 13  Surge_Pricing_Type           131662 non-null  int64  \n",
      "dtypes: float64(5), int64(4), object(5)\n",
      "memory usage: 14.1+ MB\n"
     ]
    }
   ],
   "source": [
    "train.info()"
   ]
  },
  {
   "cell_type": "code",
   "execution_count": 7,
   "id": "7a177f98",
   "metadata": {},
   "outputs": [
    {
     "data": {
      "text/plain": [
       "Trip_ID                            0\n",
       "Trip_Distance                      0\n",
       "Type_of_Cab                    20210\n",
       "Customer_Since_Months           5920\n",
       "Life_Style_Index               20193\n",
       "Confidence_Life_Style_Index    20193\n",
       "Destination_Type                   0\n",
       "Customer_Rating                    0\n",
       "Cancellation_Last_1Month           0\n",
       "Var1                           71030\n",
       "Var2                               0\n",
       "Var3                               0\n",
       "Gender                             0\n",
       "Surge_Pricing_Type                 0\n",
       "dtype: int64"
      ]
     },
     "execution_count": 7,
     "metadata": {},
     "output_type": "execute_result"
    }
   ],
   "source": [
    "train.isnull().sum()"
   ]
  },
  {
   "cell_type": "code",
   "execution_count": 8,
   "id": "f4b245f7",
   "metadata": {},
   "outputs": [
    {
     "data": {
      "text/html": [
       "<div>\n",
       "<style scoped>\n",
       "    .dataframe tbody tr th:only-of-type {\n",
       "        vertical-align: middle;\n",
       "    }\n",
       "\n",
       "    .dataframe tbody tr th {\n",
       "        vertical-align: top;\n",
       "    }\n",
       "\n",
       "    .dataframe thead th {\n",
       "        text-align: right;\n",
       "    }\n",
       "</style>\n",
       "<table border=\"1\" class=\"dataframe\">\n",
       "  <thead>\n",
       "    <tr style=\"text-align: right;\">\n",
       "      <th></th>\n",
       "      <th>Trip_ID</th>\n",
       "      <th>Trip_Distance</th>\n",
       "      <th>Type_of_Cab</th>\n",
       "      <th>Customer_Since_Months</th>\n",
       "      <th>Life_Style_Index</th>\n",
       "      <th>Confidence_Life_Style_Index</th>\n",
       "      <th>Destination_Type</th>\n",
       "      <th>Customer_Rating</th>\n",
       "      <th>Cancellation_Last_1Month</th>\n",
       "      <th>Var1</th>\n",
       "      <th>Var2</th>\n",
       "      <th>Var3</th>\n",
       "      <th>Gender</th>\n",
       "      <th>Surge_Pricing_Type</th>\n",
       "    </tr>\n",
       "  </thead>\n",
       "  <tbody>\n",
       "    <tr>\n",
       "      <th>0</th>\n",
       "      <td>T0005689460</td>\n",
       "      <td>6.77</td>\n",
       "      <td>B</td>\n",
       "      <td>1.0</td>\n",
       "      <td>2.42769</td>\n",
       "      <td>A</td>\n",
       "      <td>A</td>\n",
       "      <td>3.90500</td>\n",
       "      <td>0</td>\n",
       "      <td>40.0</td>\n",
       "      <td>46</td>\n",
       "      <td>60</td>\n",
       "      <td>Female</td>\n",
       "      <td>2</td>\n",
       "    </tr>\n",
       "    <tr>\n",
       "      <th>1</th>\n",
       "      <td>T0005689461</td>\n",
       "      <td>29.47</td>\n",
       "      <td>B</td>\n",
       "      <td>10.0</td>\n",
       "      <td>2.78245</td>\n",
       "      <td>B</td>\n",
       "      <td>A</td>\n",
       "      <td>3.45000</td>\n",
       "      <td>0</td>\n",
       "      <td>38.0</td>\n",
       "      <td>56</td>\n",
       "      <td>78</td>\n",
       "      <td>Male</td>\n",
       "      <td>2</td>\n",
       "    </tr>\n",
       "    <tr>\n",
       "      <th>2</th>\n",
       "      <td>T0005689464</td>\n",
       "      <td>41.58</td>\n",
       "      <td>NaN</td>\n",
       "      <td>10.0</td>\n",
       "      <td>NaN</td>\n",
       "      <td>NaN</td>\n",
       "      <td>E</td>\n",
       "      <td>3.50125</td>\n",
       "      <td>2</td>\n",
       "      <td>NaN</td>\n",
       "      <td>56</td>\n",
       "      <td>77</td>\n",
       "      <td>Male</td>\n",
       "      <td>2</td>\n",
       "    </tr>\n",
       "    <tr>\n",
       "      <th>3</th>\n",
       "      <td>T0005689465</td>\n",
       "      <td>61.56</td>\n",
       "      <td>C</td>\n",
       "      <td>10.0</td>\n",
       "      <td>NaN</td>\n",
       "      <td>NaN</td>\n",
       "      <td>A</td>\n",
       "      <td>3.45375</td>\n",
       "      <td>0</td>\n",
       "      <td>NaN</td>\n",
       "      <td>52</td>\n",
       "      <td>74</td>\n",
       "      <td>Male</td>\n",
       "      <td>3</td>\n",
       "    </tr>\n",
       "    <tr>\n",
       "      <th>4</th>\n",
       "      <td>T0005689467</td>\n",
       "      <td>54.95</td>\n",
       "      <td>C</td>\n",
       "      <td>10.0</td>\n",
       "      <td>3.03453</td>\n",
       "      <td>B</td>\n",
       "      <td>A</td>\n",
       "      <td>3.40250</td>\n",
       "      <td>4</td>\n",
       "      <td>51.0</td>\n",
       "      <td>49</td>\n",
       "      <td>102</td>\n",
       "      <td>Male</td>\n",
       "      <td>2</td>\n",
       "    </tr>\n",
       "    <tr>\n",
       "      <th>...</th>\n",
       "      <td>...</td>\n",
       "      <td>...</td>\n",
       "      <td>...</td>\n",
       "      <td>...</td>\n",
       "      <td>...</td>\n",
       "      <td>...</td>\n",
       "      <td>...</td>\n",
       "      <td>...</td>\n",
       "      <td>...</td>\n",
       "      <td>...</td>\n",
       "      <td>...</td>\n",
       "      <td>...</td>\n",
       "      <td>...</td>\n",
       "      <td>...</td>\n",
       "    </tr>\n",
       "    <tr>\n",
       "      <th>131657</th>\n",
       "      <td>T0005908509</td>\n",
       "      <td>11.72</td>\n",
       "      <td>D</td>\n",
       "      <td>1.0</td>\n",
       "      <td>2.74229</td>\n",
       "      <td>A</td>\n",
       "      <td>A</td>\n",
       "      <td>3.28500</td>\n",
       "      <td>0</td>\n",
       "      <td>61.0</td>\n",
       "      <td>47</td>\n",
       "      <td>76</td>\n",
       "      <td>Male</td>\n",
       "      <td>3</td>\n",
       "    </tr>\n",
       "    <tr>\n",
       "      <th>131658</th>\n",
       "      <td>T0005908510</td>\n",
       "      <td>74.81</td>\n",
       "      <td>C</td>\n",
       "      <td>7.0</td>\n",
       "      <td>2.81059</td>\n",
       "      <td>C</td>\n",
       "      <td>A</td>\n",
       "      <td>0.44500</td>\n",
       "      <td>0</td>\n",
       "      <td>NaN</td>\n",
       "      <td>63</td>\n",
       "      <td>88</td>\n",
       "      <td>Male</td>\n",
       "      <td>2</td>\n",
       "    </tr>\n",
       "    <tr>\n",
       "      <th>131659</th>\n",
       "      <td>T0005908512</td>\n",
       "      <td>40.17</td>\n",
       "      <td>C</td>\n",
       "      <td>10.0</td>\n",
       "      <td>2.99565</td>\n",
       "      <td>B</td>\n",
       "      <td>A</td>\n",
       "      <td>3.33625</td>\n",
       "      <td>0</td>\n",
       "      <td>NaN</td>\n",
       "      <td>48</td>\n",
       "      <td>75</td>\n",
       "      <td>Female</td>\n",
       "      <td>2</td>\n",
       "    </tr>\n",
       "    <tr>\n",
       "      <th>131660</th>\n",
       "      <td>T0005908513</td>\n",
       "      <td>46.88</td>\n",
       "      <td>B</td>\n",
       "      <td>4.0</td>\n",
       "      <td>3.04744</td>\n",
       "      <td>A</td>\n",
       "      <td>B</td>\n",
       "      <td>4.15750</td>\n",
       "      <td>1</td>\n",
       "      <td>47.0</td>\n",
       "      <td>54</td>\n",
       "      <td>79</td>\n",
       "      <td>Male</td>\n",
       "      <td>2</td>\n",
       "    </tr>\n",
       "    <tr>\n",
       "      <th>131661</th>\n",
       "      <td>T0005908514</td>\n",
       "      <td>31.96</td>\n",
       "      <td>A</td>\n",
       "      <td>7.0</td>\n",
       "      <td>2.93773</td>\n",
       "      <td>A</td>\n",
       "      <td>E</td>\n",
       "      <td>2.63875</td>\n",
       "      <td>1</td>\n",
       "      <td>102.0</td>\n",
       "      <td>57</td>\n",
       "      <td>85</td>\n",
       "      <td>Male</td>\n",
       "      <td>1</td>\n",
       "    </tr>\n",
       "  </tbody>\n",
       "</table>\n",
       "<p>131662 rows × 14 columns</p>\n",
       "</div>"
      ],
      "text/plain": [
       "            Trip_ID  Trip_Distance Type_of_Cab  Customer_Since_Months  \\\n",
       "0       T0005689460           6.77           B                    1.0   \n",
       "1       T0005689461          29.47           B                   10.0   \n",
       "2       T0005689464          41.58         NaN                   10.0   \n",
       "3       T0005689465          61.56           C                   10.0   \n",
       "4       T0005689467          54.95           C                   10.0   \n",
       "...             ...            ...         ...                    ...   \n",
       "131657  T0005908509          11.72           D                    1.0   \n",
       "131658  T0005908510          74.81           C                    7.0   \n",
       "131659  T0005908512          40.17           C                   10.0   \n",
       "131660  T0005908513          46.88           B                    4.0   \n",
       "131661  T0005908514          31.96           A                    7.0   \n",
       "\n",
       "        Life_Style_Index Confidence_Life_Style_Index Destination_Type  \\\n",
       "0                2.42769                           A                A   \n",
       "1                2.78245                           B                A   \n",
       "2                    NaN                         NaN                E   \n",
       "3                    NaN                         NaN                A   \n",
       "4                3.03453                           B                A   \n",
       "...                  ...                         ...              ...   \n",
       "131657           2.74229                           A                A   \n",
       "131658           2.81059                           C                A   \n",
       "131659           2.99565                           B                A   \n",
       "131660           3.04744                           A                B   \n",
       "131661           2.93773                           A                E   \n",
       "\n",
       "        Customer_Rating  Cancellation_Last_1Month   Var1  Var2  Var3  Gender  \\\n",
       "0               3.90500                         0   40.0    46    60  Female   \n",
       "1               3.45000                         0   38.0    56    78    Male   \n",
       "2               3.50125                         2    NaN    56    77    Male   \n",
       "3               3.45375                         0    NaN    52    74    Male   \n",
       "4               3.40250                         4   51.0    49   102    Male   \n",
       "...                 ...                       ...    ...   ...   ...     ...   \n",
       "131657          3.28500                         0   61.0    47    76    Male   \n",
       "131658          0.44500                         0    NaN    63    88    Male   \n",
       "131659          3.33625                         0    NaN    48    75  Female   \n",
       "131660          4.15750                         1   47.0    54    79    Male   \n",
       "131661          2.63875                         1  102.0    57    85    Male   \n",
       "\n",
       "        Surge_Pricing_Type  \n",
       "0                        2  \n",
       "1                        2  \n",
       "2                        2  \n",
       "3                        3  \n",
       "4                        2  \n",
       "...                    ...  \n",
       "131657                   3  \n",
       "131658                   2  \n",
       "131659                   2  \n",
       "131660                   2  \n",
       "131661                   1  \n",
       "\n",
       "[131662 rows x 14 columns]"
      ]
     },
     "execution_count": 8,
     "metadata": {},
     "output_type": "execute_result"
    }
   ],
   "source": [
    "train.replace(r'^\\s*$', np.nan, regex=True)"
   ]
  },
  {
   "cell_type": "markdown",
   "id": "ff9c2f63",
   "metadata": {},
   "source": [
    "##### Since the Type_of_cab have empty columns we will replace them by the mode of the Type_of_cab column.\n",
    "\n",
    "##### Since the Customer_Since_Months have empty columns we will replace them by the mean of the Customer_Since_Months column.\n",
    "\n",
    "##### Since the Life_Style_Index have empty columns we will replace them by the mean of the Life_Style_Index column.\n",
    "\n",
    "##### Since the Confidence_Life_Style_Index have empty columns we will replace them by the mean of the Confidence_Life_Style_Index column.\n",
    "\n",
    "##### Since the Var1 have empty columns we will replace them by the mean of the Var1 column."
   ]
  },
  {
   "cell_type": "code",
   "execution_count": 9,
   "id": "ebd9c9fd",
   "metadata": {},
   "outputs": [],
   "source": [
    "train['Type_of_Cab'] = train['Type_of_Cab'].fillna(train['Type_of_Cab'].mode()[0])\n",
    "\n",
    "train['Customer_Since_Months'] = train['Customer_Since_Months'].fillna(train['Customer_Since_Months'].mean())\n",
    "\n",
    "train['Life_Style_Index'] = train['Life_Style_Index'].fillna(train['Life_Style_Index'].mean())\n",
    "\n",
    "train['Confidence_Life_Style_Index'] = train['Confidence_Life_Style_Index'].fillna(train['Confidence_Life_Style_Index'].mode()[0])\n",
    "\n",
    "train['Var1'] = train['Var1'].fillna(train['Var1'].mean())"
   ]
  },
  {
   "cell_type": "code",
   "execution_count": 10,
   "id": "5215c326",
   "metadata": {},
   "outputs": [
    {
     "data": {
      "text/plain": [
       "Trip_ID                        0\n",
       "Trip_Distance                  0\n",
       "Type_of_Cab                    0\n",
       "Customer_Since_Months          0\n",
       "Life_Style_Index               0\n",
       "Confidence_Life_Style_Index    0\n",
       "Destination_Type               0\n",
       "Customer_Rating                0\n",
       "Cancellation_Last_1Month       0\n",
       "Var1                           0\n",
       "Var2                           0\n",
       "Var3                           0\n",
       "Gender                         0\n",
       "Surge_Pricing_Type             0\n",
       "dtype: int64"
      ]
     },
     "execution_count": 10,
     "metadata": {},
     "output_type": "execute_result"
    }
   ],
   "source": [
    "train.isnull().sum()"
   ]
  },
  {
   "cell_type": "code",
   "execution_count": 11,
   "id": "6b8ef318",
   "metadata": {},
   "outputs": [],
   "source": [
    "train = train.drop(['Trip_ID'], axis = 1)"
   ]
  },
  {
   "cell_type": "code",
   "execution_count": 12,
   "id": "733d9e27",
   "metadata": {},
   "outputs": [
    {
     "data": {
      "text/plain": [
       "array(['A', 'E', 'B', 'C', 'G', 'D', 'F', 'K', 'L', 'H', 'I', 'J', 'M',\n",
       "       'N'], dtype=object)"
      ]
     },
     "execution_count": 12,
     "metadata": {},
     "output_type": "execute_result"
    }
   ],
   "source": [
    "train.Destination_Type.unique()"
   ]
  },
  {
   "cell_type": "code",
   "execution_count": 13,
   "id": "7fba6729",
   "metadata": {},
   "outputs": [],
   "source": [
    "cleanup_nums = {\"Type_of_Cab\": {\"A\": 1, \"B\": 2, \"C\": 3, \"D\": 4, \"E\": 5},\n",
    "                \"Confidence_Life_Style_Index\": {\"A\": 1, \"B\": 2, \"C\": 3},\n",
    "                \"Destination_Type\": {'A': 1, 'E': 5, 'B': 2, 'C': 3, 'G': 7, 'D': 4, 'F': 6, 'K': 11, 'L': 12, 'H': 8, 'I': 9, 'J': 10, 'M': 13,'N': 14},\n",
    "                \"Gender\" :{'Male': 1, \"Female\": 2}}"
   ]
  },
  {
   "cell_type": "code",
   "execution_count": 14,
   "id": "9bdfe3e3",
   "metadata": {},
   "outputs": [],
   "source": [
    "train = train.replace(cleanup_nums)"
   ]
  },
  {
   "cell_type": "code",
   "execution_count": 15,
   "id": "2aa3b375",
   "metadata": {},
   "outputs": [
    {
     "name": "stdout",
     "output_type": "stream",
     "text": [
      "<class 'pandas.core.frame.DataFrame'>\n",
      "RangeIndex: 131662 entries, 0 to 131661\n",
      "Data columns (total 13 columns):\n",
      " #   Column                       Non-Null Count   Dtype  \n",
      "---  ------                       --------------   -----  \n",
      " 0   Trip_Distance                131662 non-null  float64\n",
      " 1   Type_of_Cab                  131662 non-null  int64  \n",
      " 2   Customer_Since_Months        131662 non-null  float64\n",
      " 3   Life_Style_Index             131662 non-null  float64\n",
      " 4   Confidence_Life_Style_Index  131662 non-null  int64  \n",
      " 5   Destination_Type             131662 non-null  int64  \n",
      " 6   Customer_Rating              131662 non-null  float64\n",
      " 7   Cancellation_Last_1Month     131662 non-null  int64  \n",
      " 8   Var1                         131662 non-null  float64\n",
      " 9   Var2                         131662 non-null  int64  \n",
      " 10  Var3                         131662 non-null  int64  \n",
      " 11  Gender                       131662 non-null  int64  \n",
      " 12  Surge_Pricing_Type           131662 non-null  int64  \n",
      "dtypes: float64(5), int64(8)\n",
      "memory usage: 13.1 MB\n"
     ]
    }
   ],
   "source": [
    "train.info()"
   ]
  },
  {
   "cell_type": "code",
   "execution_count": 16,
   "id": "99968a15",
   "metadata": {},
   "outputs": [
    {
     "data": {
      "text/html": [
       "<div>\n",
       "<style scoped>\n",
       "    .dataframe tbody tr th:only-of-type {\n",
       "        vertical-align: middle;\n",
       "    }\n",
       "\n",
       "    .dataframe tbody tr th {\n",
       "        vertical-align: top;\n",
       "    }\n",
       "\n",
       "    .dataframe thead th {\n",
       "        text-align: right;\n",
       "    }\n",
       "</style>\n",
       "<table border=\"1\" class=\"dataframe\">\n",
       "  <thead>\n",
       "    <tr style=\"text-align: right;\">\n",
       "      <th></th>\n",
       "      <th>Trip_Distance</th>\n",
       "      <th>Type_of_Cab</th>\n",
       "      <th>Customer_Since_Months</th>\n",
       "      <th>Life_Style_Index</th>\n",
       "      <th>Confidence_Life_Style_Index</th>\n",
       "      <th>Destination_Type</th>\n",
       "      <th>Customer_Rating</th>\n",
       "      <th>Cancellation_Last_1Month</th>\n",
       "      <th>Var1</th>\n",
       "      <th>Var2</th>\n",
       "      <th>Var3</th>\n",
       "      <th>Gender</th>\n",
       "      <th>Surge_Pricing_Type</th>\n",
       "    </tr>\n",
       "  </thead>\n",
       "  <tbody>\n",
       "    <tr>\n",
       "      <th>0</th>\n",
       "      <td>6.77</td>\n",
       "      <td>2</td>\n",
       "      <td>1.0</td>\n",
       "      <td>2.427690</td>\n",
       "      <td>1</td>\n",
       "      <td>1</td>\n",
       "      <td>3.90500</td>\n",
       "      <td>0</td>\n",
       "      <td>40.000000</td>\n",
       "      <td>46</td>\n",
       "      <td>60</td>\n",
       "      <td>2</td>\n",
       "      <td>2</td>\n",
       "    </tr>\n",
       "    <tr>\n",
       "      <th>1</th>\n",
       "      <td>29.47</td>\n",
       "      <td>2</td>\n",
       "      <td>10.0</td>\n",
       "      <td>2.782450</td>\n",
       "      <td>2</td>\n",
       "      <td>1</td>\n",
       "      <td>3.45000</td>\n",
       "      <td>0</td>\n",
       "      <td>38.000000</td>\n",
       "      <td>56</td>\n",
       "      <td>78</td>\n",
       "      <td>1</td>\n",
       "      <td>2</td>\n",
       "    </tr>\n",
       "    <tr>\n",
       "      <th>2</th>\n",
       "      <td>41.58</td>\n",
       "      <td>2</td>\n",
       "      <td>10.0</td>\n",
       "      <td>2.802064</td>\n",
       "      <td>2</td>\n",
       "      <td>5</td>\n",
       "      <td>3.50125</td>\n",
       "      <td>2</td>\n",
       "      <td>64.202698</td>\n",
       "      <td>56</td>\n",
       "      <td>77</td>\n",
       "      <td>1</td>\n",
       "      <td>2</td>\n",
       "    </tr>\n",
       "    <tr>\n",
       "      <th>3</th>\n",
       "      <td>61.56</td>\n",
       "      <td>3</td>\n",
       "      <td>10.0</td>\n",
       "      <td>2.802064</td>\n",
       "      <td>2</td>\n",
       "      <td>1</td>\n",
       "      <td>3.45375</td>\n",
       "      <td>0</td>\n",
       "      <td>64.202698</td>\n",
       "      <td>52</td>\n",
       "      <td>74</td>\n",
       "      <td>1</td>\n",
       "      <td>3</td>\n",
       "    </tr>\n",
       "    <tr>\n",
       "      <th>4</th>\n",
       "      <td>54.95</td>\n",
       "      <td>3</td>\n",
       "      <td>10.0</td>\n",
       "      <td>3.034530</td>\n",
       "      <td>2</td>\n",
       "      <td>1</td>\n",
       "      <td>3.40250</td>\n",
       "      <td>4</td>\n",
       "      <td>51.000000</td>\n",
       "      <td>49</td>\n",
       "      <td>102</td>\n",
       "      <td>1</td>\n",
       "      <td>2</td>\n",
       "    </tr>\n",
       "  </tbody>\n",
       "</table>\n",
       "</div>"
      ],
      "text/plain": [
       "   Trip_Distance  Type_of_Cab  Customer_Since_Months  Life_Style_Index  \\\n",
       "0           6.77            2                    1.0          2.427690   \n",
       "1          29.47            2                   10.0          2.782450   \n",
       "2          41.58            2                   10.0          2.802064   \n",
       "3          61.56            3                   10.0          2.802064   \n",
       "4          54.95            3                   10.0          3.034530   \n",
       "\n",
       "   Confidence_Life_Style_Index  Destination_Type  Customer_Rating  \\\n",
       "0                            1                 1          3.90500   \n",
       "1                            2                 1          3.45000   \n",
       "2                            2                 5          3.50125   \n",
       "3                            2                 1          3.45375   \n",
       "4                            2                 1          3.40250   \n",
       "\n",
       "   Cancellation_Last_1Month       Var1  Var2  Var3  Gender  Surge_Pricing_Type  \n",
       "0                         0  40.000000    46    60       2                   2  \n",
       "1                         0  38.000000    56    78       1                   2  \n",
       "2                         2  64.202698    56    77       1                   2  \n",
       "3                         0  64.202698    52    74       1                   3  \n",
       "4                         4  51.000000    49   102       1                   2  "
      ]
     },
     "execution_count": 16,
     "metadata": {},
     "output_type": "execute_result"
    }
   ],
   "source": [
    "train.head()"
   ]
  },
  {
   "cell_type": "code",
   "execution_count": 17,
   "id": "d828ce62",
   "metadata": {},
   "outputs": [],
   "source": [
    "# import seaborn as sns\n",
    "# sns.pairplot(data =train, hue = 'Surge_Pricing_Type')\n",
    "# plt.show()"
   ]
  },
  {
   "cell_type": "code",
   "execution_count": 18,
   "id": "e15f0390",
   "metadata": {},
   "outputs": [
    {
     "data": {
      "text/plain": [
       "<AxesSubplot:>"
      ]
     },
     "execution_count": 18,
     "metadata": {},
     "output_type": "execute_result"
    },
    {
     "data": {
      "image/png": "[encoded data removed]",
      "text/plain": [
       "<Figure size 432x288 with 1 Axes>"
      ]
     },
     "metadata": {
      "needs_background": "light"
     },
     "output_type": "display_data"
    }
   ],
   "source": [
    "train.plot()"
   ]
  },
  {
   "cell_type": "code",
   "execution_count": 19,
   "id": "295cfcdb",
   "metadata": {},
   "outputs": [
    {
     "data": {
      "text/plain": [
       "<AxesSubplot:xlabel='Surge_Pricing_Type'>"
      ]
     },
     "execution_count": 19,
     "metadata": {},
     "output_type": "execute_result"
    },
    {
     "data": {
      "image/png": "[encoded data removed]",
      "text/plain": [
       "<Figure size 432x288 with 1 Axes>"
      ]
     },
     "metadata": {
      "needs_background": "light"
     },
     "output_type": "display_data"
    }
   ],
   "source": [
    "train.groupby('Surge_Pricing_Type').count().plot(kind='bar')"
   ]
  },
  {
   "cell_type": "code",
   "execution_count": 20,
   "id": "16cfc055",
   "metadata": {},
   "outputs": [
    {
     "data": {
      "text/plain": [
       "array([[<AxesSubplot:title={'center':'Trip_Distance'}>,\n",
       "        <AxesSubplot:title={'center':'Type_of_Cab'}>,\n",
       "        <AxesSubplot:title={'center':'Customer_Since_Months'}>,\n",
       "        <AxesSubplot:title={'center':'Life_Style_Index'}>],\n",
       "       [<AxesSubplot:title={'center':'Confidence_Life_Style_Index'}>,\n",
       "        <AxesSubplot:title={'center':'Destination_Type'}>,\n",
       "        <AxesSubplot:title={'center':'Customer_Rating'}>,\n",
       "        <AxesSubplot:title={'center':'Cancellation_Last_1Month'}>],\n",
       "       [<AxesSubplot:title={'center':'Var1'}>,\n",
       "        <AxesSubplot:title={'center':'Var2'}>,\n",
       "        <AxesSubplot:title={'center':'Var3'}>,\n",
       "        <AxesSubplot:title={'center':'Gender'}>],\n",
       "       [<AxesSubplot:title={'center':'Surge_Pricing_Type'}>,\n",
       "        <AxesSubplot:>, <AxesSubplot:>, <AxesSubplot:>]], dtype=object)"
      ]
     },
     "execution_count": 20,
     "metadata": {},
     "output_type": "execute_result"
    },
    {
     "data": {
      "image/png": "[encoded data removed]",
      "text/plain": [
       "<Figure size 1080x720 with 16 Axes>"
      ]
     },
     "metadata": {
      "needs_background": "light"
     },
     "output_type": "display_data"
    }
   ],
   "source": [
    "train.hist(bins = 20, figsize = (15, 10))"
   ]
  },
  {
   "cell_type": "code",
   "execution_count": 21,
   "id": "52515220",
   "metadata": {},
   "outputs": [],
   "source": [
    "#sns.pairplot(train, hue = 'Surge_Pricing_Type')"
   ]
  },
  {
   "cell_type": "code",
   "execution_count": 22,
   "id": "b87f45c6",
   "metadata": {},
   "outputs": [
    {
     "data": {
      "image/png": "[encoded data removed]",
      "text/plain": [
       "<Figure size 864x720 with 2 Axes>"
      ]
     },
     "metadata": {
      "needs_background": "light"
     },
     "output_type": "display_data"
    }
   ],
   "source": [
    "import matplotlib.pyplot as plt\n",
    "import seaborn as sns\n",
    "plt.figure(figsize=(12,10))\n",
    "sns.heatmap(train.corr(), annot = True, cmap = \"YlGnBu\")\n",
    "plt.show()"
   ]
  },
  {
   "cell_type": "code",
   "execution_count": 23,
   "id": "c27231ae",
   "metadata": {},
   "outputs": [
    {
     "data": {
      "image/png": "[encoded data removed]",
      "text/plain": [
       "<Figure size 288x288 with 1 Axes>"
      ]
     },
     "metadata": {
      "needs_background": "light"
     },
     "output_type": "display_data"
    }
   ],
   "source": [
    "import matplotlib.pyplot as plt\n",
    "\n",
    "plt.matshow(train.corr())\n",
    "plt.show()"
   ]
  },
  {
   "cell_type": "code",
   "execution_count": 24,
   "id": "a8a3e56a",
   "metadata": {},
   "outputs": [
    {
     "name": "stdout",
     "output_type": "stream",
     "text": [
      "(105329, 12) (26333, 12) (105329,) (26333,)\n"
     ]
    }
   ],
   "source": [
    "X = train.iloc[:, 0:12].values\n",
    "y = train.iloc[:, 12].values\n",
    "\n",
    "X_train, X_test, y_train, y_test =train_test_split(X,y,test_size=0.2,random_state=0)\n",
    "print(X_train.shape, X_test.shape, y_train.shape, y_test.shape)"
   ]
  },
  {
   "cell_type": "code",
   "execution_count": 25,
   "id": "b799a8ea",
   "metadata": {},
   "outputs": [],
   "source": [
    "from sklearn.preprocessing import StandardScaler\n",
    "sc_X= StandardScaler()\n",
    "X_train=sc_X.fit_transform(X_train)\n",
    "X_test=sc_X.transform(X_test)"
   ]
  },
  {
   "cell_type": "markdown",
   "id": "23676d3b",
   "metadata": {},
   "source": [
    "# Model Building\n",
    "\n",
    "    --> Decision Tree\n",
    "    --> Logistic Regression\n",
    "    --> Random Forest\n",
    "    --> KNN\n",
    "    --> Naive Bayes\n",
    "    --> SM\n",
    "    --> XGB\n",
    "    --> LGBM"
   ]
  },
  {
   "cell_type": "code",
   "execution_count": 26,
   "id": "d90bf0e0",
   "metadata": {},
   "outputs": [
    {
     "data": {
      "text/plain": [
       "DecisionTreeClassifier(random_state=0)"
      ]
     },
     "execution_count": 26,
     "metadata": {},
     "output_type": "execute_result"
    }
   ],
   "source": [
    "#Decision Tree\n",
    "\n",
    "model_tree = DecisionTreeClassifier(random_state=0)\n",
    "model_tree.fit(X_train, y_train)"
   ]
  },
  {
   "cell_type": "code",
   "execution_count": 27,
   "id": "7f278edb",
   "metadata": {},
   "outputs": [
    {
     "name": "stdout",
     "output_type": "stream",
     "text": [
      "[[2842 1714  924]\n",
      " [1769 6572 3013]\n",
      " [1033 2956 5510]]\n"
     ]
    }
   ],
   "source": [
    "Y_pred1 = model_tree.predict(X_test)\n",
    "\n",
    "print(confusion_matrix(y_test, Y_pred1))"
   ]
  },
  {
   "cell_type": "code",
   "execution_count": 28,
   "id": "eb8de0f0",
   "metadata": {},
   "outputs": [
    {
     "name": "stdout",
     "output_type": "stream",
     "text": [
      "0.5667413511563437\n"
     ]
    }
   ],
   "source": [
    "print(accuracy_score(y_test, Y_pred1))"
   ]
  },
  {
   "cell_type": "code",
   "execution_count": 29,
   "id": "d4e56b46",
   "metadata": {},
   "outputs": [
    {
     "name": "stdout",
     "output_type": "stream",
     "text": [
      "              precision    recall  f1-score   support\n",
      "\n",
      "           1       0.50      0.52      0.51      5480\n",
      "           2       0.58      0.58      0.58     11354\n",
      "           3       0.58      0.58      0.58      9499\n",
      "\n",
      "    accuracy                           0.57     26333\n",
      "   macro avg       0.56      0.56      0.56     26333\n",
      "weighted avg       0.57      0.57      0.57     26333\n",
      "\n"
     ]
    }
   ],
   "source": [
    "print(classification_report(y_test, Y_pred1))"
   ]
  },
  {
   "cell_type": "code",
   "execution_count": 30,
   "id": "45562f16",
   "metadata": {},
   "outputs": [
    {
     "data": {
      "text/plain": [
       "LogisticRegression()"
      ]
     },
     "execution_count": 30,
     "metadata": {},
     "output_type": "execute_result"
    }
   ],
   "source": [
    "model_linear = LogisticRegression()\n",
    "model_linear.fit(X_train, y_train)"
   ]
  },
  {
   "cell_type": "code",
   "execution_count": 31,
   "id": "5a9adad1",
   "metadata": {},
   "outputs": [
    {
     "name": "stdout",
     "output_type": "stream",
     "text": [
      "[[2801 2238  441]\n",
      " [ 611 8332 2411]\n",
      " [ 459 3372 5668]]\n"
     ]
    }
   ],
   "source": [
    "Y_pred2 = model_linear.predict(X_test)\n",
    "\n",
    "print(confusion_matrix(y_test, Y_pred2))"
   ]
  },
  {
   "cell_type": "code",
   "execution_count": 32,
   "id": "7a251530",
   "metadata": {},
   "outputs": [
    {
     "name": "stdout",
     "output_type": "stream",
     "text": [
      "0.6380207344396764\n"
     ]
    }
   ],
   "source": [
    "print(accuracy_score(y_test, Y_pred2))"
   ]
  },
  {
   "cell_type": "code",
   "execution_count": 33,
   "id": "d1bdf82a",
   "metadata": {},
   "outputs": [
    {
     "name": "stdout",
     "output_type": "stream",
     "text": [
      "              precision    recall  f1-score   support\n",
      "\n",
      "           1       0.72      0.51      0.60      5480\n",
      "           2       0.60      0.73      0.66     11354\n",
      "           3       0.67      0.60      0.63      9499\n",
      "\n",
      "    accuracy                           0.64     26333\n",
      "   macro avg       0.66      0.61      0.63     26333\n",
      "weighted avg       0.65      0.64      0.64     26333\n",
      "\n"
     ]
    }
   ],
   "source": [
    "print(classification_report(y_test, Y_pred2))"
   ]
  },
  {
   "cell_type": "code",
   "execution_count": 34,
   "id": "9619e262",
   "metadata": {},
   "outputs": [
    {
     "data": {
      "text/plain": [
       "RandomForestClassifier(random_state=0)"
      ]
     },
     "execution_count": 34,
     "metadata": {},
     "output_type": "execute_result"
    }
   ],
   "source": [
    "model_random = RandomForestClassifier(random_state=0)\n",
    "model_random.fit(X_train, y_train)"
   ]
  },
  {
   "cell_type": "code",
   "execution_count": 35,
   "id": "97384d0f",
   "metadata": {},
   "outputs": [
    {
     "name": "stdout",
     "output_type": "stream",
     "text": [
      "[[2970 1997  513]\n",
      " [ 478 9302 1574]\n",
      " [ 468 3247 5784]]\n"
     ]
    }
   ],
   "source": [
    "Y_pred3 = model_random.predict(X_test)\n",
    "\n",
    "print(confusion_matrix(y_test, Y_pred3))"
   ]
  },
  {
   "cell_type": "code",
   "execution_count": 36,
   "id": "107dd149",
   "metadata": {},
   "outputs": [
    {
     "name": "stdout",
     "output_type": "stream",
     "text": [
      "0.685679565564121\n"
     ]
    }
   ],
   "source": [
    "print(accuracy_score(y_test, Y_pred3))"
   ]
  },
  {
   "cell_type": "code",
   "execution_count": 37,
   "id": "eb22126c",
   "metadata": {},
   "outputs": [
    {
     "name": "stdout",
     "output_type": "stream",
     "text": [
      "              precision    recall  f1-score   support\n",
      "\n",
      "           1       0.76      0.54      0.63      5480\n",
      "           2       0.64      0.82      0.72     11354\n",
      "           3       0.73      0.61      0.67      9499\n",
      "\n",
      "    accuracy                           0.69     26333\n",
      "   macro avg       0.71      0.66      0.67     26333\n",
      "weighted avg       0.70      0.69      0.68     26333\n",
      "\n"
     ]
    }
   ],
   "source": [
    "print(classification_report(y_test, Y_pred3))"
   ]
  },
  {
   "cell_type": "code",
   "execution_count": 38,
   "id": "330ed03b",
   "metadata": {},
   "outputs": [
    {
     "data": {
      "text/plain": [
       "KNeighborsClassifier(n_neighbors=3)"
      ]
     },
     "execution_count": 38,
     "metadata": {},
     "output_type": "execute_result"
    }
   ],
   "source": [
    "model_knn = KNeighborsClassifier(n_neighbors=3,metric='minkowski',p=2)\n",
    "model_knn.fit(X_train, y_train)"
   ]
  },
  {
   "cell_type": "code",
   "execution_count": 39,
   "id": "d59fa6d1",
   "metadata": {},
   "outputs": [
    {
     "name": "stdout",
     "output_type": "stream",
     "text": [
      "[[3066 1794  620]\n",
      " [2095 6927 2332]\n",
      " [1280 2970 5249]]\n"
     ]
    }
   ],
   "source": [
    "Y_pred4 = model_knn.predict(X_test)\n",
    "\n",
    "print(confusion_matrix(y_test, Y_pred4))"
   ]
  },
  {
   "cell_type": "code",
   "execution_count": 40,
   "id": "406e82cc",
   "metadata": {},
   "outputs": [
    {
     "name": "stdout",
     "output_type": "stream",
     "text": [
      "0.5788174533854858\n"
     ]
    }
   ],
   "source": [
    "print(accuracy_score(y_test, Y_pred4))"
   ]
  },
  {
   "cell_type": "code",
   "execution_count": 41,
   "id": "89346b3c",
   "metadata": {},
   "outputs": [
    {
     "name": "stdout",
     "output_type": "stream",
     "text": [
      "              precision    recall  f1-score   support\n",
      "\n",
      "           1       0.48      0.56      0.51      5480\n",
      "           2       0.59      0.61      0.60     11354\n",
      "           3       0.64      0.55      0.59      9499\n",
      "\n",
      "    accuracy                           0.58     26333\n",
      "   macro avg       0.57      0.57      0.57     26333\n",
      "weighted avg       0.59      0.58      0.58     26333\n",
      "\n"
     ]
    }
   ],
   "source": [
    "print(classification_report(y_test, Y_pred4))"
   ]
  },
  {
   "cell_type": "code",
   "execution_count": 42,
   "id": "d8845684",
   "metadata": {},
   "outputs": [
    {
     "data": {
      "text/plain": [
       "GaussianNB()"
      ]
     },
     "execution_count": 42,
     "metadata": {},
     "output_type": "execute_result"
    }
   ],
   "source": [
    "model_nb = GaussianNB()\n",
    "model_nb.fit(X_train,y_train)"
   ]
  },
  {
   "cell_type": "code",
   "execution_count": 43,
   "id": "10b6a02b",
   "metadata": {},
   "outputs": [
    {
     "name": "stdout",
     "output_type": "stream",
     "text": [
      "[[2775 2079  626]\n",
      " [ 641 8522 2191]\n",
      " [ 451 3310 5738]]\n"
     ]
    }
   ],
   "source": [
    "Y_pred5 = model_nb.predict(X_test)\n",
    "\n",
    "print(confusion_matrix(y_test, Y_pred5))"
   ]
  },
  {
   "cell_type": "code",
   "execution_count": 44,
   "id": "d5e7e92e",
   "metadata": {},
   "outputs": [
    {
     "name": "stdout",
     "output_type": "stream",
     "text": [
      "0.6469069228724414\n"
     ]
    }
   ],
   "source": [
    "print(accuracy_score(y_test, Y_pred5))"
   ]
  },
  {
   "cell_type": "code",
   "execution_count": 45,
   "id": "46fa5e90",
   "metadata": {},
   "outputs": [
    {
     "name": "stdout",
     "output_type": "stream",
     "text": [
      "              precision    recall  f1-score   support\n",
      "\n",
      "           1       0.72      0.51      0.59      5480\n",
      "           2       0.61      0.75      0.67     11354\n",
      "           3       0.67      0.60      0.64      9499\n",
      "\n",
      "    accuracy                           0.65     26333\n",
      "   macro avg       0.67      0.62      0.63     26333\n",
      "weighted avg       0.66      0.65      0.64     26333\n",
      "\n"
     ]
    }
   ],
   "source": [
    "print(classification_report(y_test, Y_pred5))"
   ]
  },
  {
   "cell_type": "code",
   "execution_count": 46,
   "id": "ef21ef65",
   "metadata": {},
   "outputs": [],
   "source": [
    "xg_reg = GradientBoostingClassifier()"
   ]
  },
  {
   "cell_type": "code",
   "execution_count": 47,
   "id": "9c59c61d",
   "metadata": {},
   "outputs": [
    {
     "name": "stdout",
     "output_type": "stream",
     "text": [
      "[[2942 2036  502]\n",
      " [ 405 9634 1315]\n",
      " [ 496 3436 5567]]\n"
     ]
    }
   ],
   "source": [
    "xg_reg.fit(X_train,y_train)\n",
    "\n",
    "Y_pred7 = xg_reg.predict(X_test)\n",
    "print(confusion_matrix(y_test, Y_pred7))"
   ]
  },
  {
   "cell_type": "code",
   "execution_count": 48,
   "id": "5f109171",
   "metadata": {},
   "outputs": [
    {
     "name": "stdout",
     "output_type": "stream",
     "text": [
      "0.688983404853226\n"
     ]
    }
   ],
   "source": [
    "print(accuracy_score(y_test, Y_pred7))"
   ]
  },
  {
   "cell_type": "code",
   "execution_count": 65,
   "id": "c50ad5c7",
   "metadata": {},
   "outputs": [
    {
     "name": "stdout",
     "output_type": "stream",
     "text": [
      "              precision    recall  f1-score   support\n",
      "\n",
      "           1       0.77      0.54      0.63      5480\n",
      "           2       0.64      0.85      0.73     11354\n",
      "           3       0.75      0.59      0.66      9499\n",
      "\n",
      "    accuracy                           0.69     26333\n",
      "   macro avg       0.72      0.66      0.67     26333\n",
      "weighted avg       0.71      0.69      0.68     26333\n",
      "\n"
     ]
    }
   ],
   "source": [
    "print(classification_report(y_test, Y_pred7))"
   ]
  },
  {
   "cell_type": "code",
   "execution_count": 49,
   "id": "2049c97b",
   "metadata": {},
   "outputs": [
    {
     "data": {
      "text/plain": [
       "LGBMClassifier()"
      ]
     },
     "execution_count": 49,
     "metadata": {},
     "output_type": "execute_result"
    }
   ],
   "source": [
    "clf = lgb.LGBMClassifier()\n",
    "clf.fit(X_train, y_train)"
   ]
  },
  {
   "cell_type": "code",
   "execution_count": 50,
   "id": "758de2cf",
   "metadata": {},
   "outputs": [
    {
     "name": "stdout",
     "output_type": "stream",
     "text": [
      "[[2972 2006  502]\n",
      " [ 427 9488 1439]\n",
      " [ 417 3277 5805]]\n"
     ]
    }
   ],
   "source": [
    "Y_pred8 = clf.predict(X_test)\n",
    "\n",
    "print(confusion_matrix(y_test, Y_pred8))"
   ]
  },
  {
   "cell_type": "code",
   "execution_count": 51,
   "id": "f2722c32",
   "metadata": {},
   "outputs": [
    {
     "name": "stdout",
     "output_type": "stream",
     "text": [
      "0.6936163748908214\n"
     ]
    }
   ],
   "source": [
    "print(accuracy_score(y_test, Y_pred8))"
   ]
  },
  {
   "cell_type": "code",
   "execution_count": 64,
   "id": "54bf205a",
   "metadata": {},
   "outputs": [
    {
     "name": "stdout",
     "output_type": "stream",
     "text": [
      "              precision    recall  f1-score   support\n",
      "\n",
      "           1       0.78      0.54      0.64      5480\n",
      "           2       0.64      0.84      0.73     11354\n",
      "           3       0.75      0.61      0.67      9499\n",
      "\n",
      "    accuracy                           0.69     26333\n",
      "   macro avg       0.72      0.66      0.68     26333\n",
      "weighted avg       0.71      0.69      0.69     26333\n",
      "\n"
     ]
    }
   ],
   "source": [
    "print(classification_report(y_test, Y_pred8))"
   ]
  },
  {
   "cell_type": "code",
   "execution_count": 62,
   "id": "ece8ddd7",
   "metadata": {},
   "outputs": [],
   "source": [
    "result = {'Model Name':['Decision Tree', 'Logistic Regression', 'Random Forest', 'KNN', 'Naive Bayes', 'XGB', 'LGBM'], \n",
    "          'Accuracy Score': [0.5667413511563437*100, 0.6380207344396764*100, 0.685679565564121*100, 0.5788174533854858*100, 0.6469069228724414*100, 0.688983404853226*100, 0.6936163748908214*100]}"
   ]
  },
  {
   "cell_type": "code",
   "execution_count": 63,
   "id": "1be92455",
   "metadata": {},
   "outputs": [
    {
     "data": {
      "text/html": [
       "<div>\n",
       "<style scoped>\n",
       "    .dataframe tbody tr th:only-of-type {\n",
       "        vertical-align: middle;\n",
       "    }\n",
       "\n",
       "    .dataframe tbody tr th {\n",
       "        vertical-align: top;\n",
       "    }\n",
       "\n",
       "    .dataframe thead th {\n",
       "        text-align: right;\n",
       "    }\n",
       "</style>\n",
       "<table border=\"1\" class=\"dataframe\">\n",
       "  <thead>\n",
       "    <tr style=\"text-align: right;\">\n",
       "      <th></th>\n",
       "      <th>Model Name</th>\n",
       "      <th>Accuracy Score</th>\n",
       "    </tr>\n",
       "  </thead>\n",
       "  <tbody>\n",
       "    <tr>\n",
       "      <th>0</th>\n",
       "      <td>Decision Tree</td>\n",
       "      <td>56.674135</td>\n",
       "    </tr>\n",
       "    <tr>\n",
       "      <th>1</th>\n",
       "      <td>Logistic Regression</td>\n",
       "      <td>63.802073</td>\n",
       "    </tr>\n",
       "    <tr>\n",
       "      <th>2</th>\n",
       "      <td>Random Forest</td>\n",
       "      <td>68.567957</td>\n",
       "    </tr>\n",
       "    <tr>\n",
       "      <th>3</th>\n",
       "      <td>KNN</td>\n",
       "      <td>57.881745</td>\n",
       "    </tr>\n",
       "    <tr>\n",
       "      <th>4</th>\n",
       "      <td>Naive Bayes</td>\n",
       "      <td>64.690692</td>\n",
       "    </tr>\n",
       "    <tr>\n",
       "      <th>5</th>\n",
       "      <td>XGB</td>\n",
       "      <td>68.898340</td>\n",
       "    </tr>\n",
       "    <tr>\n",
       "      <th>6</th>\n",
       "      <td>LGBM</td>\n",
       "      <td>69.361637</td>\n",
       "    </tr>\n",
       "  </tbody>\n",
       "</table>\n",
       "</div>"
      ],
      "text/plain": [
       "            Model Name  Accuracy Score\n",
       "0        Decision Tree       56.674135\n",
       "1  Logistic Regression       63.802073\n",
       "2        Random Forest       68.567957\n",
       "3                  KNN       57.881745\n",
       "4          Naive Bayes       64.690692\n",
       "5                  XGB       68.898340\n",
       "6                 LGBM       69.361637"
      ]
     },
     "execution_count": 63,
     "metadata": {},
     "output_type": "execute_result"
    }
   ],
   "source": [
    "res = pd.DataFrame.from_dict(result)\n",
    "res"
   ]
  },
  {
   "cell_type": "code",
   "execution_count": null,
   "id": "041b6d18",
   "metadata": {},
   "outputs": [],
   "source": []
  }
 ],
 "metadata": {
  "kernelspec": {
   "display_name": "Python 3 (ipykernel)",
   "language": "python",
   "name": "python3"
  },
  "language_info": {
   "codemirror_mode": {
    "name": "ipython",
    "version": 3
   },
   "file_extension": ".py",
   "mimetype": "text/x-python",
   "name": "python",
   "nbconvert_exporter": "python",
   "pygments_lexer": "ipython3",
   "version": "3.7.9"
  }
 },
 "nbformat": 4,
 "nbformat_minor": 5
}
